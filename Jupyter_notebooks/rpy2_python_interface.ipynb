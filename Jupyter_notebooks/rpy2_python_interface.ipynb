{
 "cells": [
  {
   "cell_type": "code",
   "execution_count": 1,
   "id": "e0bc383e",
   "metadata": {},
   "outputs": [],
   "source": [
    "import os"
   ]
  },
  {
   "cell_type": "code",
   "execution_count": 2,
   "id": "def2fe53",
   "metadata": {},
   "outputs": [],
   "source": [
    "from IPython.display import Image"
   ]
  },
  {
   "cell_type": "code",
   "execution_count": 3,
   "id": "8537dc00",
   "metadata": {},
   "outputs": [],
   "source": [
    "import rpy2.robjects as robjects"
   ]
  },
  {
   "cell_type": "code",
   "execution_count": 4,
   "id": "dafd556e",
   "metadata": {},
   "outputs": [
    {
     "name": "stderr",
     "output_type": "stream",
     "text": [
      "/Users/danielemercatelli/opt/anaconda3/envs/bioinformatics_r/lib/python3.11/site-packages/rpy2/robjects/lib/ggplot2.py:70: UserWarning: This was designed againt ggplot2 versions starting with 3.3. but you have 3.4.2\n",
      "  warnings.warn(\n"
     ]
    }
   ],
   "source": [
    "import rpy2.robjects.lib.ggplot2 as ggplot2"
   ]
  },
  {
   "cell_type": "code",
   "execution_count": 5,
   "id": "3c4fb16e",
   "metadata": {},
   "outputs": [],
   "source": [
    "from rpy2.robjects.functions import SignatureTranslatedFunction"
   ]
  },
  {
   "cell_type": "code",
   "execution_count": 6,
   "id": "5924b5dd",
   "metadata": {},
   "outputs": [],
   "source": [
    "import pandas as pd"
   ]
  },
  {
   "cell_type": "code",
   "execution_count": 7,
   "id": "ee9234cc",
   "metadata": {},
   "outputs": [],
   "source": [
    "import rpy2.robjects as ro"
   ]
  },
  {
   "cell_type": "code",
   "execution_count": 8,
   "id": "083d5fd6",
   "metadata": {},
   "outputs": [],
   "source": [
    "from rpy2.robjects import pandas2ri"
   ]
  },
  {
   "cell_type": "code",
   "execution_count": 9,
   "id": "cd66253d",
   "metadata": {},
   "outputs": [],
   "source": [
    "from rpy2.robjects.conversion import localconverter"
   ]
  },
  {
   "cell_type": "code",
   "execution_count": 10,
   "id": "2f4120a9",
   "metadata": {},
   "outputs": [
    {
     "name": "stdout",
     "output_type": "stream",
     "text": [
      "/Users/danielemercatelli/Documents/src\n"
     ]
    }
   ],
   "source": [
    "print(os.getcwd())"
   ]
  },
  {
   "cell_type": "code",
   "execution_count": 11,
   "id": "b57dc41f",
   "metadata": {},
   "outputs": [
    {
     "ename": "FileExistsError",
     "evalue": "[Errno 17] File exists: 'data_files'",
     "output_type": "error",
     "traceback": [
      "\u001b[0;31m---------------------------------------------------------------------------\u001b[0m",
      "\u001b[0;31mFileExistsError\u001b[0m                           Traceback (most recent call last)",
      "Cell \u001b[0;32mIn[11], line 1\u001b[0m\n\u001b[0;32m----> 1\u001b[0m \u001b[43mos\u001b[49m\u001b[38;5;241;43m.\u001b[39;49m\u001b[43mmkdir\u001b[49m\u001b[43m(\u001b[49m\u001b[38;5;124;43m\"\u001b[39;49m\u001b[38;5;124;43mdata_files\u001b[39;49m\u001b[38;5;124;43m\"\u001b[39;49m\u001b[43m)\u001b[49m\n",
      "\u001b[0;31mFileExistsError\u001b[0m: [Errno 17] File exists: 'data_files'"
     ]
    }
   ],
   "source": [
    "os.mkdir(\"data_files\")"
   ]
  },
  {
   "cell_type": "code",
   "execution_count": 12,
   "id": "f775c8e9",
   "metadata": {},
   "outputs": [],
   "source": [
    "import wget"
   ]
  },
  {
   "cell_type": "code",
   "execution_count": 13,
   "id": "300926eb",
   "metadata": {},
   "outputs": [],
   "source": [
    "site_url = 'http://ftp.1000genomes.ebi.ac.uk/vol1/ftp/phase3/20130502.phase3.sequence.index'"
   ]
  },
  {
   "cell_type": "code",
   "execution_count": 14,
   "id": "077e58ab",
   "metadata": {},
   "outputs": [
    {
     "name": "stdout",
     "output_type": "stream",
     "text": [
      "100% [....................................................] 67057948 / 67057948"
     ]
    }
   ],
   "source": [
    "file_name = wget.download(site_url)"
   ]
  },
  {
   "cell_type": "code",
   "execution_count": 15,
   "id": "1a7f8582",
   "metadata": {},
   "outputs": [
    {
     "name": "stdout",
     "output_type": "stream",
     "text": [
      "20130502.phase3.sequence.index\n"
     ]
    }
   ],
   "source": [
    "print(file_name)"
   ]
  },
  {
   "cell_type": "code",
   "execution_count": 16,
   "id": "db4dd0f3",
   "metadata": {},
   "outputs": [],
   "source": [
    "os.rename(file_name, \"data_files/\"+file_name)"
   ]
  },
  {
   "cell_type": "code",
   "execution_count": 17,
   "id": "aa61c73e",
   "metadata": {},
   "outputs": [],
   "source": [
    "read_delim = robjects.r('read.delim')"
   ]
  },
  {
   "cell_type": "code",
   "execution_count": 18,
   "id": "03691252",
   "metadata": {},
   "outputs": [],
   "source": [
    "seq_data = read_delim(\"data_files/\"+file_name, header=True, stringsAsFactors=False)"
   ]
  },
  {
   "cell_type": "code",
   "execution_count": 19,
   "id": "da1e349f",
   "metadata": {},
   "outputs": [
    {
     "name": "stdout",
     "output_type": "stream",
     "text": [
      "This dataframe has 26 columns and 187720 rows\n"
     ]
    }
   ],
   "source": [
    "print('This dataframe has %d columns and %d rows' %(seq_data.ncol,seq_data.nrow))"
   ]
  },
  {
   "cell_type": "code",
   "execution_count": 20,
   "id": "9eed4232",
   "metadata": {},
   "outputs": [
    {
     "name": "stdout",
     "output_type": "stream",
     "text": [
      " [1] \"FASTQ_FILE\"          \"MD5\"                 \"RUN_ID\"             \n",
      " [4] \"STUDY_ID\"            \"STUDY_NAME\"          \"CENTER_NAME\"        \n",
      " [7] \"SUBMISSION_ID\"       \"SUBMISSION_DATE\"     \"SAMPLE_ID\"          \n",
      "[10] \"SAMPLE_NAME\"         \"POPULATION\"          \"EXPERIMENT_ID\"      \n",
      "[13] \"INSTRUMENT_PLATFORM\" \"INSTRUMENT_MODEL\"    \"LIBRARY_NAME\"       \n",
      "[16] \"RUN_NAME\"            \"RUN_BLOCK_NAME\"      \"INSERT_SIZE\"        \n",
      "[19] \"LIBRARY_LAYOUT\"      \"PAIRED_FASTQ\"        \"WITHDRAWN\"          \n",
      "[22] \"WITHDRAWN_DATE\"      \"COMMENT\"             \"READ_COUNT\"         \n",
      "[25] \"BASE_COUNT\"          \"ANALYSIS_GROUP\"     \n",
      "\n"
     ]
    }
   ],
   "source": [
    "print(seq_data.colnames)"
   ]
  },
  {
   "cell_type": "code",
   "execution_count": 21,
   "id": "b2636769",
   "metadata": {},
   "outputs": [],
   "source": [
    "my_cols = robjects.r.ncol(seq_data)"
   ]
  },
  {
   "cell_type": "code",
   "execution_count": 22,
   "id": "31d3e21a",
   "metadata": {},
   "outputs": [
    {
     "name": "stdout",
     "output_type": "stream",
     "text": [
      "[1] 26\n",
      "\n"
     ]
    }
   ],
   "source": [
    "print(my_cols)"
   ]
  },
  {
   "cell_type": "code",
   "execution_count": 23,
   "id": "46b00e29",
   "metadata": {},
   "outputs": [
    {
     "name": "stdout",
     "output_type": "stream",
     "text": [
      "26\n"
     ]
    }
   ],
   "source": [
    "print(my_cols[0])"
   ]
  },
  {
   "cell_type": "code",
   "execution_count": 25,
   "id": "499e41d5",
   "metadata": {},
   "outputs": [],
   "source": [
    "# Perform data cleanup\n",
    "\n",
    "as_integer = robjects.r('as.integer') # convert a column into integers\n",
    "match = robjects.r.match\n",
    "my_col = match('READ_COUNT', seq_data.colnames[0]) # vector returned"
   ]
  },
  {
   "cell_type": "code",
   "execution_count": 26,
   "id": "d4b7e80c",
   "metadata": {},
   "outputs": [
    {
     "data": {
      "text/html": [
       "\n",
       "        <span>R/rpy2 DataFrame (187720 x 26)</span>\n",
       "        <table>\n",
       "          <thead>\n",
       "            <tr>\n",
       "              \n",
       "              <th>FASTQ_FILE</th>\n",
       "              \n",
       "              <th>MD5</th>\n",
       "              \n",
       "              <th>RUN_ID</th>\n",
       "              \n",
       "              <th>...</th>\n",
       "              \n",
       "              <th>READ_COUNT</th>\n",
       "              \n",
       "              <th>BASE_COUNT</th>\n",
       "              \n",
       "              <th>ANALYSIS_GROUP</th>\n",
       "              \n",
       "            </tr>\n",
       "          </thead>\n",
       "          <tbody>\n",
       "          \n",
       "          <tr>\n",
       "            \n",
       "            <td>\n",
       "              'data/NA1...\n",
       "            </td>\n",
       "            \n",
       "            <td>\n",
       "              '3b092ef1...\n",
       "            </td>\n",
       "            \n",
       "            <td>\n",
       "              'ERR000018'\n",
       "            </td>\n",
       "            \n",
       "            <td>\n",
       "              ...\n",
       "            </td>\n",
       "            \n",
       "            <td>\n",
       "              '9280498'\n",
       "            </td>\n",
       "            \n",
       "            <td>\n",
       "              '334097928'\n",
       "            </td>\n",
       "            \n",
       "            <td>\n",
       "              'high cov...\n",
       "            </td>\n",
       "            \n",
       "          </tr>\n",
       "          \n",
       "          <tr>\n",
       "            \n",
       "            <td>\n",
       "              'data/NA1...\n",
       "            </td>\n",
       "            \n",
       "            <td>\n",
       "              'fcb89b0a...\n",
       "            </td>\n",
       "            \n",
       "            <td>\n",
       "              'ERR000019'\n",
       "            </td>\n",
       "            \n",
       "            <td>\n",
       "              \n",
       "            </td>\n",
       "            \n",
       "            <td>\n",
       "              '9571982'\n",
       "            </td>\n",
       "            \n",
       "            <td>\n",
       "              '344591352'\n",
       "            </td>\n",
       "            \n",
       "            <td>\n",
       "              'high cov...\n",
       "            </td>\n",
       "            \n",
       "          </tr>\n",
       "          \n",
       "          <tr>\n",
       "            \n",
       "            <td>\n",
       "              'data/NA1...\n",
       "            </td>\n",
       "            \n",
       "            <td>\n",
       "              'dcd4ff7d...\n",
       "            </td>\n",
       "            \n",
       "            <td>\n",
       "              'ERR000020'\n",
       "            </td>\n",
       "            \n",
       "            <td>\n",
       "              \n",
       "            </td>\n",
       "            \n",
       "            <td>\n",
       "              '149044'\n",
       "            </td>\n",
       "            \n",
       "            <td>\n",
       "              '5365584'\n",
       "            </td>\n",
       "            \n",
       "            <td>\n",
       "              'high cov...\n",
       "            </td>\n",
       "            \n",
       "          </tr>\n",
       "          \n",
       "          <tr>\n",
       "            \n",
       "            <td>\n",
       "              'data/NA1...\n",
       "            </td>\n",
       "            \n",
       "            <td>\n",
       "              'fb5d7eb5...\n",
       "            </td>\n",
       "            \n",
       "            <td>\n",
       "              'ERR000020'\n",
       "            </td>\n",
       "            \n",
       "            <td>\n",
       "              \n",
       "            </td>\n",
       "            \n",
       "            <td>\n",
       "              '2057690'\n",
       "            </td>\n",
       "            \n",
       "            <td>\n",
       "              '74076840'\n",
       "            </td>\n",
       "            \n",
       "            <td>\n",
       "              'high cov...\n",
       "            </td>\n",
       "            \n",
       "          </tr>\n",
       "          \n",
       "          <tr>\n",
       "            \n",
       "            <td>\n",
       "              ...\n",
       "            </td>\n",
       "            \n",
       "            <td>\n",
       "              ...\n",
       "            </td>\n",
       "            \n",
       "            <td>\n",
       "              ...\n",
       "            </td>\n",
       "            \n",
       "            <td>\n",
       "              \n",
       "            </td>\n",
       "            \n",
       "            <td>\n",
       "              ...\n",
       "            </td>\n",
       "            \n",
       "            <td>\n",
       "              ...\n",
       "            </td>\n",
       "            \n",
       "            <td>\n",
       "              ...\n",
       "            </td>\n",
       "            \n",
       "          </tr>\n",
       "          \n",
       "          <tr>\n",
       "            \n",
       "            <td>\n",
       "              'data/HG0...\n",
       "            </td>\n",
       "            \n",
       "            <td>\n",
       "              '25947403...\n",
       "            </td>\n",
       "            \n",
       "            <td>\n",
       "              'SRR824935'\n",
       "            </td>\n",
       "            \n",
       "            <td>\n",
       "              \n",
       "            </td>\n",
       "            \n",
       "            <td>\n",
       "              '2173448'\n",
       "            </td>\n",
       "            \n",
       "            <td>\n",
       "              '165182048'\n",
       "            </td>\n",
       "            \n",
       "            <td>\n",
       "              'exome'\n",
       "            </td>\n",
       "            \n",
       "          </tr>\n",
       "          \n",
       "          <tr>\n",
       "            \n",
       "            <td>\n",
       "              'data/HG0...\n",
       "            </td>\n",
       "            \n",
       "            <td>\n",
       "              '1176aaea...\n",
       "            </td>\n",
       "            \n",
       "            <td>\n",
       "              'SRR824936'\n",
       "            </td>\n",
       "            \n",
       "            <td>\n",
       "              \n",
       "            </td>\n",
       "            \n",
       "            <td>\n",
       "              '10250'\n",
       "            </td>\n",
       "            \n",
       "            <td>\n",
       "              '779000'\n",
       "            </td>\n",
       "            \n",
       "            <td>\n",
       "              'exome'\n",
       "            </td>\n",
       "            \n",
       "          </tr>\n",
       "          \n",
       "          <tr>\n",
       "            \n",
       "            <td>\n",
       "              'data/HG0...\n",
       "            </td>\n",
       "            \n",
       "            <td>\n",
       "              '4ae5b931...\n",
       "            </td>\n",
       "            \n",
       "            <td>\n",
       "              'SRR824936'\n",
       "            </td>\n",
       "            \n",
       "            <td>\n",
       "              \n",
       "            </td>\n",
       "            \n",
       "            <td>\n",
       "              '2403340'\n",
       "            </td>\n",
       "            \n",
       "            <td>\n",
       "              '182653840'\n",
       "            </td>\n",
       "            \n",
       "            <td>\n",
       "              'exome'\n",
       "            </td>\n",
       "            \n",
       "          </tr>\n",
       "          \n",
       "          <tr>\n",
       "            \n",
       "            <td>\n",
       "              'data/HG0...\n",
       "            </td>\n",
       "            \n",
       "            <td>\n",
       "              'f87ba955...\n",
       "            </td>\n",
       "            \n",
       "            <td>\n",
       "              'SRR824936'\n",
       "            </td>\n",
       "            \n",
       "            <td>\n",
       "              \n",
       "            </td>\n",
       "            \n",
       "            <td>\n",
       "              '2403340'\n",
       "            </td>\n",
       "            \n",
       "            <td>\n",
       "              '182653840'\n",
       "            </td>\n",
       "            \n",
       "            <td>\n",
       "              'exome'\n",
       "            </td>\n",
       "            \n",
       "          </tr>\n",
       "          \n",
       "          </tbody>\n",
       "        </table>\n",
       "    "
      ],
      "text/plain": [
       "<rpy2.robjects.vectors.DataFrame object at 0x16ec41a10> [19]\n",
       "R classes: ('data.frame',)\n",
       "[StrSexpVe..., StrSexpVe..., StrSexpVe..., StrSexpVe..., ..., StrSexpVe..., StrSexpVe..., StrSexpVe..., StrSexpVe...]\n",
       "  FASTQ_FILE: <class 'rpy2.robjects.vectors.StrVector'>\n",
       "  <rpy2.robjects.vectors.StrVector object at 0x16ec0c190> [16]\n",
       "R classes: ('character',)\n",
       "['data/NA1..., 'data/NA1..., 'data/NA1..., 'data/NA1..., ..., 'data/HG0..., 'data/HG0..., 'data/HG0..., 'data/HG0...]\n",
       "  MD5: <class 'rpy2.robjects.vectors.StrVector'>\n",
       "  <rpy2.robjects.vectors.StrVector object at 0x16ec0ffd0> [16]\n",
       "R classes: ('character',)\n",
       "['3b092ef1..., 'fcb89b0a..., 'dcd4ff7d..., 'fb5d7eb5..., ..., '25947403..., '1176aaea..., '4ae5b931..., 'f87ba955...]\n",
       "  RUN_ID: <class 'rpy2.robjects.vectors.StrVector'>\n",
       "  <rpy2.robjects.vectors.StrVector object at 0x115ed6810> [16]\n",
       "R classes: ('character',)\n",
       "['ERR000018', 'ERR000019', 'ERR000020', 'ERR000020', ..., 'SRR824935', 'SRR824936', 'SRR824936', 'SRR824936']\n",
       "  STUDY_ID: <class 'rpy2.robjects.vectors.StrVector'>\n",
       "  <rpy2.robjects.vectors.StrVector object at 0x11e405d10> [16]\n",
       "R classes: ('character',)\n",
       "['SRP000032', 'SRP000032', 'SRP000032', 'SRP000032', ..., 'SRP016107', 'SRP016107', 'SRP016107', 'SRP016107']\n",
       "...\n",
       "  CENTER_NAME: <class 'rpy2.robjects.vectors.StrVector'>\n",
       "  <rpy2.robjects.vectors.StrVector object at 0x16f176450> [16]\n",
       "R classes: ('character',)\n",
       "['', '', '', '', ..., '', '', '', '']\n",
       "  SUBMISSION_ID: <class 'rpy2.robjects.vectors.StrVector'>\n",
       "  <rpy2.robjects.vectors.StrVector object at 0x16f177d90> [16]\n",
       "R classes: ('character',)\n",
       "['9280498', '9571982', '149044', '2057690', ..., '2173448', '10250', '2403340', '2403340']\n",
       "  SUBMISSION_DATE: <class 'rpy2.robjects.vectors.StrVector'>\n",
       "  <rpy2.robjects.vectors.StrVector object at 0x11e37b450> [16]\n",
       "R classes: ('character',)\n",
       "['334097928', '344591352', '5365584', '74076840', ..., '165182048', '779000', '182653840', '182653840']\n",
       "  SAMPLE_ID: <class 'rpy2.robjects.vectors.StrVector'>\n",
       "  <rpy2.robjects.vectors.StrVector object at 0x16f103510> [16]\n",
       "R classes: ('character',)\n",
       "['high cov..., 'high cov..., 'high cov..., 'high cov..., ..., 'exome', 'exome', 'exome', 'exome']"
      ]
     },
     "execution_count": 26,
     "metadata": {},
     "output_type": "execute_result"
    }
   ],
   "source": [
    "robjects.r.assign('seq.data', seq_data) # create a variable in the R namespace called seq.data"
   ]
  },
  {
   "cell_type": "code",
   "execution_count": 30,
   "id": "a92751cf",
   "metadata": {},
   "outputs": [
    {
     "data": {
      "image/png": "[encoded data removed]",
      "text/plain": [
       "<IPython.core.display.Image object>"
      ]
     },
     "execution_count": 30,
     "metadata": {},
     "output_type": "execute_result"
    }
   ],
   "source": [
    "# Plot a histogram with the distribution of center names\n",
    "\n",
    "from rpy2.robjects.functions import SignatureTranslatedFunction\n",
    "\n",
    "ggplot2.theme = SignatureTranslatedFunction(ggplot2.theme, \n",
    "                                            init_prm_translate = {'axis_text_x':'axis.text.x'})\n",
    "\n",
    "bar = ggplot2.ggplot(seq_data) + ggplot2.geom_bar() + ggplot2.aes_string(x = 'CENTER_NAME') + ggplot2.theme(axis_text_x = ggplot2.element_text(angle=90, hjust=1))\n",
    "robjects.r.png('out.png', type = 'cairo-png')\n",
    "bar.plot()\n",
    "dev_off = robjects.r('dev.off')\n",
    "dev_off()\n",
    "\n",
    "Image(filename='out.png')"
   ]
  },
  {
   "cell_type": "code",
   "execution_count": 35,
   "id": "7a18e1e5",
   "metadata": {},
   "outputs": [],
   "source": [
    "# Scatter plot with subset of data of interest\n",
    "robjects.r('yri_ceu <- seq.data[seq.data$POPULATION %in% c(\"YRI\",\"CEU\") & seq.data$BASE_COUNT < 2E9 & seq.data$READ_COUNT < 3E7,]')\n",
    "yri_ceu = robjects.r('yri_ceu')\n",
    "\n",
    "# Plot part\n",
    "scatter = ggplot2.ggplot(yri_ceu) + ggplot2.aes_string(x='BASE_COUNT', \\\n",
    "y = 'READ_COUNT', shape = 'factor(POPULATION)', col = 'factor(ANALYSIS_GROUP)') + \\\n",
    "ggplot2.geom_point()\n",
    "\n",
    "robjects.r.png('out2.png')\n",
    "scatter.plot()\n",
    "dev_off()\n"
   ]
  },
  {
   "cell_type": "code",
   "execution_count": 38,
   "id": "395aa3e7",
   "metadata": {},
   "outputs": [
    {
     "name": "stdout",
     "output_type": "stream",
     "text": [
      " [1] \"FASTQ_FILE\"          \"MD5\"                 \"RUN_ID\"             \n",
      " [4] \"STUDY_ID\"            \"STUDY_NAME\"          \"CENTER_NAME\"        \n",
      " [7] \"SUBMISSION_ID\"       \"SUBMISSION_DATE\"     \"SAMPLE_ID\"          \n",
      "[10] \"SAMPLE_NAME\"         \"POPULATION\"          \"EXPERIMENT_ID\"      \n",
      "[13] \"INSTRUMENT_PLATFORM\" \"INSTRUMENT_MODEL\"    \"LIBRARY_NAME\"       \n",
      "[16] \"RUN_NAME\"            \"RUN_BLOCK_NAME\"      \"INSERT_SIZE\"        \n",
      "[19] \"LIBRARY_LAYOUT\"      \"WITHDRAWN\"           \"WITHDRAWN_DATE\"     \n",
      "[22] \"COMMENT\"             \"READ_COUNT\"          \"BASE_COUNT\"         \n",
      "[25] \"ANALYSIS_GROUP\"     \n"
     ]
    },
    {
     "data": {
      "text/html": [
       "\n",
       "        <span>StrVector with 25 elements.</span>\n",
       "        <table>\n",
       "        <tbody>\n",
       "          <tr>\n",
       "          \n",
       "            <td>\n",
       "            'FASTQ_FI...\n",
       "            </td>\n",
       "          \n",
       "            <td>\n",
       "            'MD5'\n",
       "            </td>\n",
       "          \n",
       "            <td>\n",
       "            'RUN_ID'\n",
       "            </td>\n",
       "          \n",
       "            <td>\n",
       "            ...\n",
       "            </td>\n",
       "          \n",
       "            <td>\n",
       "            'READ_COU...\n",
       "            </td>\n",
       "          \n",
       "            <td>\n",
       "            'BASE_COU...\n",
       "            </td>\n",
       "          \n",
       "            <td>\n",
       "            'ANALYSIS...\n",
       "            </td>\n",
       "          \n",
       "          </tr>\n",
       "        </tbody>\n",
       "        </table>\n",
       "        "
      ],
      "text/plain": [
       "<rpy2.robjects.vectors.StrVector object at 0x16f106d10> [16]\n",
       "R classes: ('character',)\n",
       "['FASTQ_FI..., 'MD5', 'RUN_ID', 'STUDY_ID', ..., 'COMMENT', 'READ_COU..., 'BASE_COU..., 'ANALYSIS...]"
      ]
     },
     "execution_count": 38,
     "metadata": {},
     "output_type": "execute_result"
    }
   ],
   "source": [
    "# Convert a R DataFrame to pandas\n",
    "\n",
    "with localconverter(ro.default_converter + pandas2ri.converter):\n",
    "    pd_yri_ceu = ro.conversion.rpy2py(yri_ceu)\n",
    "\n",
    "del pd_yri_ceu['PAIRED_FASTQ']\n",
    "\n",
    "with localconverter(ro.default_converter + pandas2ri.converter):\n",
    "    no_paired = ro.conversion.py2rpy(pd_yri_ceu)\n",
    "    \n",
    "robjects.r.assign('no.paired', no_paired)\n",
    "robjects.r(\"print(colnames(no.paired))\")"
   ]
  },
  {
   "cell_type": "code",
   "execution_count": 40,
   "id": "bfffe06a",
   "metadata": {},
   "outputs": [
    {
     "data": {
      "text/html": [
       "\n",
       "        <span>IntVector with 1 elements.</span>\n",
       "        <table>\n",
       "        <tbody>\n",
       "          <tr>\n",
       "          \n",
       "            <td>\n",
       "            2\n",
       "            </td>\n",
       "          \n",
       "          </tr>\n",
       "        </tbody>\n",
       "        </table>\n",
       "        "
      ],
      "text/plain": [
       "<rpy2.robjects.vectors.IntVector object at 0x16f25b1d0> [13]\n",
       "R classes: ('integer',)\n",
       "[2]"
      ]
     },
     "execution_count": 40,
     "metadata": {},
     "output_type": "execute_result"
    }
   ],
   "source": [
    "# in jupyter\n",
    "# %load_ext rpy2.ipython # load R magics\n",
    "# %%R the entire cell should be interpreted by R\n",
    "# %R -> some code only code after %R will be interpreted as R code"
   ]
  }
 ],
 "metadata": {
  "kernelspec": {
   "display_name": "Python 3 (ipykernel)",
   "language": "python",
   "name": "python3"
  },
  "language_info": {
   "codemirror_mode": {
    "name": "ipython",
    "version": 3
   },
   "file_extension": ".py",
   "mimetype": "text/x-python",
   "name": "python",
   "nbconvert_exporter": "python",
   "pygments_lexer": "ipython3",
   "version": "3.11.3"
  }
 },
 "nbformat": 4,
 "nbformat_minor": 5
}
